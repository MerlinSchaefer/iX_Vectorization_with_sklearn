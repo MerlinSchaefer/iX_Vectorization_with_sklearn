{
 "cells": [
  {
   "cell_type": "markdown",
   "metadata": {},
   "source": [
    "# Notebook zum Artikel Vectorisierung und Sentiment Analyse\n",
    "\n",
    "## NLP\n",
    "*Natural Language Processing*, kurz NLP, ist ein Teilgebiet der Informatik und künstlichen Intelligenz, welches sich mit der Interaktion zwischen Computern und menschlichen (natürlichen) Sprachen befasst.\n",
    "\n",
    "Viele der uns bekannten Technologien basieren auf Anwendungen von NLP. Zum Beispiel haben viele Smartphones und Online-Suchmaschinen Textvorhersagefunktionen, die vervollständigen können, was man eingibt. Das machen sie basierend auf den Buchstaben oder Wörtern, die bereits getippt wurden. Online-Übersetzungstools basieren auf NLP-Techniken, um Wörter zwischen Sprachen zu übersetzen. Die automatische Rechtschreibprüfung ist ebenfalls ein Produkt von NLP.\n",
    "\n",
    "## Idee des Artikels\n",
    "Im Artikel sollen beispielhaft Daten, bestehend aus Reddit Kommentaren, zum Software Hersteller Microsoft vorbereitet und vektorisiert werden. Danach soll ihr Sentiment analysiert werden. Hier geht es vor allem darum die einzelnen Schritte und insbesondere das Vektorisieren näher zu betrachten. \n",
    "Dafür wird Schritt für Schritt vorgegangen und nicht auf bestehende End-to-End Tools zugegriffen.\n",
    "\n",
    "**Dieses Notebook führt alle notwendigen Schritte wie im Artikel beschrieben durch und bildet die Grundlage für die Listings und Bilder des Artikels.**"
   ]
  },
  {
   "cell_type": "code",
   "execution_count": 1,
   "metadata": {},
   "outputs": [],
   "source": [
    "# Importieren der notwendingen Module\n",
    "# einzelne Objekte aus Modulen werden aus didaktischen Gründe erst vor ihrer Nutzung importiert\n",
    "import pandas as pd\n",
    "import re\n",
    "import json\n",
    "import numpy as np\n",
    "import matplotlib.pyplot as plt\n",
    "import seaborn as sns\n",
    "\n",
    "#Einlesen der Trainings- und Testdaten\n",
    "df_train_microsoft = pd.read_csv(\"Reddit Data/Train/microsoft_comments_train.csv\")\n",
    "\n",
    "df_test_microsoft = pd.read_csv(\"Reddit Data/Test/microsoft_comments_test.csv\")\n"
   ]
  },
  {
   "cell_type": "code",
   "execution_count": 2,
   "metadata": {},
   "outputs": [
    {
     "data": {
      "text/html": [
       "<div>\n",
       "<style scoped>\n",
       "    .dataframe tbody tr th:only-of-type {\n",
       "        vertical-align: middle;\n",
       "    }\n",
       "\n",
       "    .dataframe tbody tr th {\n",
       "        vertical-align: top;\n",
       "    }\n",
       "\n",
       "    .dataframe thead th {\n",
       "        text-align: right;\n",
       "    }\n",
       "</style>\n",
       "<table border=\"1\" class=\"dataframe\">\n",
       "  <thead>\n",
       "    <tr style=\"text-align: right;\">\n",
       "      <th></th>\n",
       "      <th>body</th>\n",
       "      <th>created_utc</th>\n",
       "      <th>sentiment</th>\n",
       "    </tr>\n",
       "  </thead>\n",
       "  <tbody>\n",
       "    <tr>\n",
       "      <th>0</th>\n",
       "      <td>I'm waiting for the hacks in the marketing dep...</td>\n",
       "      <td>2014-12-31 23:56:33</td>\n",
       "      <td>0</td>\n",
       "    </tr>\n",
       "    <tr>\n",
       "      <th>1</th>\n",
       "      <td>&amp;gt;And the great thing about the web is that ...</td>\n",
       "      <td>2015-01-01 00:35:56</td>\n",
       "      <td>1</td>\n",
       "    </tr>\n",
       "    <tr>\n",
       "      <th>2</th>\n",
       "      <td>Many years ago I gave up giving Microsoft hint...</td>\n",
       "      <td>2015-01-01 01:55:38</td>\n",
       "      <td>1</td>\n",
       "    </tr>\n",
       "  </tbody>\n",
       "</table>\n",
       "</div>"
      ],
      "text/plain": [
       "                                                body          created_utc  \\\n",
       "0  I'm waiting for the hacks in the marketing dep...  2014-12-31 23:56:33   \n",
       "1  &gt;And the great thing about the web is that ...  2015-01-01 00:35:56   \n",
       "2  Many years ago I gave up giving Microsoft hint...  2015-01-01 01:55:38   \n",
       "\n",
       "   sentiment  \n",
       "0          0  \n",
       "1          1  \n",
       "2          1  "
      ]
     },
     "metadata": {},
     "output_type": "display_data"
    },
    {
     "name": "stdout",
     "output_type": "stream",
     "text": [
      "<class 'pandas.core.frame.DataFrame'>\n",
      "Int64Index: 69329 entries, 0 to 69328\n",
      "Data columns (total 3 columns):\n",
      " #   Column       Non-Null Count  Dtype \n",
      "---  ------       --------------  ----- \n",
      " 0   body         69329 non-null  object\n",
      " 1   created_utc  69329 non-null  object\n",
      " 2   sentiment    69329 non-null  int64 \n",
      "dtypes: int64(1), object(2)\n",
      "memory usage: 2.1+ MB\n",
      "None \n",
      "\n",
      "body           0\n",
      "created_utc    0\n",
      "sentiment      0\n",
      "dtype: int64 \n",
      "\n"
     ]
    }
   ],
   "source": [
    "#Entfernen ggf. vorhandener NAs aus den Trainingsdaten\n",
    "df_train_microsoft.dropna(inplace=True)\n",
    "display(df_train_microsoft.head(3)) #die display() Funktion ist Jupyter LAB spezifisch\n",
    "#Ausgabe der Grundinformationen des Datensatzes\n",
    "print(df_train_microsoft.info(), \"\\n\")\n",
    "print(df_train_microsoft.isna().sum(), \"\\n\")"
   ]
  },
  {
   "cell_type": "markdown",
   "metadata": {},
   "source": [
    "# Tokenization & spaCy\n",
    "\n",
    "\n",
    "Um Textdaten richtig zu analysieren, sollten Modelle des Machine Learning in der Lage sein, Strukturen im Text zu erkennen, wie z.B. einzelne Wörter und deren Sprachanteile. Dies erreichen wir durch eine **Tokenisierung**. Hierbei wird der Korpus in **sinnvolle linguistische Einheiten**, wie Wörter oder Sätze, zerlegt und als Liste gespeichert. Die Elemente dieser Liste werden *token* genannt.\n",
    "\n",
    "Um dies zu tun, müssen wir zuerst ein `spacy` spezifisches`.Doc`-Objekt erstellen, das den Text im Korpus enthält. Dazu nutzen wir unser `Language`-Objekt `nlp` und überreichen ihm den Text, den wir analysieren möchten.\n",
    "\n",
    "Auf eine Tokenisierung folgt eine Textbereinigung. Textdaten können in verschiedenen Formen vorliegen: in Büchern, Zeitschriften, Webseiten, Online-Nachrichten, usw. Auch die Länge des Textes variiert: Textnachrichten sind in der Regel viel kürzer als Romane. Damit unsere Modelle mit ihnen umgehen können, müssen all diese Textformen zuerst aufbereitet und in ein Format, das aus Zahlen besteht, überführt werden. Zuvor wollen wir aber eine Bereinigung vornehmen. Dies ist notwendig, da ein Computer nicht wirklich sprechen kann und deshalb viele Aspekte der menschlichen Sprache, welche für uns Menschen sehr wichtig sind, irrelevant für einen Algorithmus sind. \n",
    "\n",
    "Einige Reinigungs- und Aufbereitungstechniken sind:\n",
    "1. **Stoppwort-Entfernung**\n",
    "2. **Entfernung von Satzzeichen**\n",
    "3. **Lemmatisierung** (hier nicht durchgeführt)"
   ]
  },
  {
   "cell_type": "code",
   "execution_count": 3,
   "metadata": {},
   "outputs": [],
   "source": [
    "#Importieren und Instanzieren des Englischen Language Objektes\n",
    "from spacy.lang.en import English\n",
    "\n",
    "nlp = English()"
   ]
  },
  {
   "cell_type": "code",
   "execution_count": 4,
   "metadata": {},
   "outputs": [
    {
     "name": "stdout",
     "output_type": "stream",
     "text": [
      "&gt;Consider Microsoft Delve, a brilliant new Office 365 tool that mines your Microsoft data, such as emails, social networks and corporate documents, to recommend content to you and make your workday more efficient. \n",
      "\n",
      "Not sure why TechCrunch thinks data mining all your information is what people want when they say they want to be secure against spying. Spying includes advertising companies, something companies don't seem to grasp. \n"
     ]
    }
   ],
   "source": [
    "text = df_train_microsoft.loc[4,\"body\"] #Beispiel Kommentar aus dem Datensatz\n",
    "print(text)"
   ]
  },
  {
   "cell_type": "code",
   "execution_count": 5,
   "metadata": {},
   "outputs": [
    {
     "name": "stdout",
     "output_type": "stream",
     "text": [
      "Rohtext Tokenisiert: \n",
      " &gt;Consider Microsoft Delve, a brilliant new Office 365 tool that mines your Microsoft data, such as emails, social networks and corporate documents, to recommend content to you and make your workday more efficient. \n",
      "\n",
      "Not sure why TechCrunch thinks data mining all your information is what people want when they say they want to be secure against spying. Spying includes advertising companies, something companies don't seem to grasp. \n",
      "\n",
      "Nach Satzzeichenentfernung: \n",
      " [gt;Consider, Microsoft, Delve, a, brilliant, new, Office, 365, tool, that, mines, your, Microsoft, data, such, as, emails, social, networks, and, corporate, documents, to, recommend, content, to, you, and, make, your, workday, more, efficient, \n",
      "\n",
      ", Not, sure, why, TechCrunch, thinks, data, mining, all, your, information, is, what, people, want, when, they, say, they, want, to, be, secure, against, spying, Spying, includes, advertising, companies, something, companies, do, n't, seem, to, grasp]\n",
      "\n",
      "Tokens im String Format: \n",
      " ['gt;Consider', 'Microsoft', 'Delve', 'a', 'brilliant', 'new', 'Office', '365', 'tool', 'that', 'mines', 'your', 'Microsoft', 'data', 'such', 'as', 'emails', 'social', 'networks', 'and', 'corporate', 'documents', 'to', 'recommend', 'content', 'to', 'you', 'and', 'make', 'your', 'workday', 'more', 'efficient', '\\n\\n', 'Not', 'sure', 'why', 'TechCrunch', 'thinks', 'data', 'mining', 'all', 'your', 'information', 'is', 'what', 'people', 'want', 'when', 'they', 'say', 'they', 'want', 'to', 'be', 'secure', 'against', 'spying', 'Spying', 'includes', 'advertising', 'companies', 'something', 'companies', 'do', \"n't\", 'seem', 'to', 'grasp'] \n",
      "\n",
      "Nach dem Entfernen von Stoppworten: \n",
      " Consider Microsoft Delve brilliant new Office 365 tool mines Microsoft data emails social networks corporate documents recommend content workday efficient \n",
      "\n",
      " Not sure TechCrunch thinks data mining information people want want secure spying Spying includes advertising companies companies grasp\n"
     ]
    }
   ],
   "source": [
    "## \"nlp\" Objekt wird genutzt um ein Doc Objekt mit linguistischer Annotation und Tokens zu kreieren\n",
    "my_doc = nlp(text)\n",
    "\n",
    "##Punctuation (Satzzeichen)\n",
    "#Entfernen von Tokens, die ein Satzzeichen sind\n",
    "my_doc_no_punct = [token for token in my_doc if token.is_punct == False]\n",
    "\n",
    "# Erstellen einer Liste aus Tokens im String Format\n",
    "token_list = [token.text for token in my_doc_no_punct]\n",
    "    \n",
    "\n",
    "##Stopwords (Stoppworte)\n",
    "#Erstellen einer Stopwords Liste aus dem nlp Objekt\n",
    "stopwords = nlp.Defaults.stop_words \n",
    "\n",
    "# Erstellen einer Liste von Tokens ohne Stoppworte\n",
    "filtered_sentence = [token for token in token_list if token not in stopwords]\n",
    "\n",
    "# Nutzung von `re.sub()` um die gt; zu entfernen (überbleibsel von \"&gt;\" das für \">\" steht)\n",
    "# (im Artikel nicht explizit beschrieben)\n",
    "filtered_sentence = \" \".join(filtered_sentence)\n",
    "filtered_sentence = re.sub('gt;','',filtered_sentence)\n",
    "\n",
    "print(\"Rohtext Tokenisiert: \\n\",my_doc)\n",
    "print(\"\\nNach Satzzeichenentfernung: \\n\",my_doc_no_punct)\n",
    "print(\"\\nTokens im String Format: \\n\",token_list,\"\\n\")\n",
    "print(\"Nach dem Entfernen von Stoppworten: \\n\",filtered_sentence)   \n"
   ]
  },
  {
   "cell_type": "markdown",
   "metadata": {},
   "source": [
    "## Erstellung einer Funktion für die oben gezeigten Schritte"
   ]
  },
  {
   "cell_type": "code",
   "execution_count": 6,
   "metadata": {},
   "outputs": [],
   "source": [
    "def text_cleaner(sentence, nlp = English()):\n",
    "    \"\"\"\n",
    "    Tokenizes text, removes punctuations and stopwords.\n",
    "    \n",
    "    Input\n",
    "    sentence: string containing words\n",
    "    nlp: spacy Language-Object, default: English()\n",
    "    Output\n",
    "    clean_doc: string containing tokens, with no stopwords,punctuation, double spaces etc.\n",
    "    \"\"\"\n",
    "    # Create the Doc object named `text` from `sentence` using `nlp()`\n",
    "    doc = nlp(sentence)\n",
    "    \n",
    "    #remove punctuation\n",
    "    doc_no_punct = [token for token in doc if token.is_punct == False]\n",
    "\n",
    "    # Create list of word tokens\n",
    "    doc_token_list = [token.text for token in doc_no_punct]\n",
    "    \n",
    "    #remove stopwords\n",
    "    stopwords = nlp.Defaults.stop_words \n",
    "\n",
    "    doc_no_stopwords = [token for token in doc_token_list if token not in stopwords] \n",
    "\n",
    "    doc_no_stopwords = \" \".join(doc_no_stopwords)\n",
    "    # Use `re.sub()` to substitute multiple spaces or dots`[\\.\\s]+` to single space `' '`\n",
    "    doc_no_stopwords = re.sub('gt;','',doc_no_stopwords)\n",
    "    clean_doc  = re.sub('[\\.\\s]+', ' ', doc_no_stopwords)\n",
    "    \n",
    "    return clean_doc"
   ]
  },
  {
   "cell_type": "markdown",
   "metadata": {},
   "source": [
    "### Testen der Funktion"
   ]
  },
  {
   "cell_type": "code",
   "execution_count": 7,
   "metadata": {},
   "outputs": [
    {
     "name": "stdout",
     "output_type": "stream",
     "text": [
      "&gt;Consider Microsoft Delve, a brilliant new Office 365 tool that mines your Microsoft data, such as emails, social networks and corporate documents, to recommend content to you and make your workday more efficient. \n",
      "\n",
      "Not sure why TechCrunch thinks data mining all your information is what people want when they say they want to be secure against spying. Spying includes advertising companies, something companies don't seem to grasp.  \n",
      "\n",
      "Cleaned: \n",
      " Consider Microsoft Delve brilliant new Office 365 tool mines Microsoft data emails social networks corporate documents recommend content workday efficient Not sure TechCrunch thinks data mining information people want want secure spying Spying includes advertising companies companies grasp\n"
     ]
    }
   ],
   "source": [
    "print(df_train_microsoft.loc[4, \"body\"], \"\\n\")\n",
    "print(\"Cleaned: \\n\",text_cleaner(df_train_microsoft.loc[4, \"body\"]))"
   ]
  },
  {
   "cell_type": "markdown",
   "metadata": {},
   "source": [
    "## Vorbereiten aller Kommentarspalten in den DataFrames für Vectorisierung "
   ]
  },
  {
   "cell_type": "code",
   "execution_count": 8,
   "metadata": {},
   "outputs": [
    {
     "data": {
      "text/html": [
       "<div>\n",
       "<style scoped>\n",
       "    .dataframe tbody tr th:only-of-type {\n",
       "        vertical-align: middle;\n",
       "    }\n",
       "\n",
       "    .dataframe tbody tr th {\n",
       "        vertical-align: top;\n",
       "    }\n",
       "\n",
       "    .dataframe thead th {\n",
       "        text-align: right;\n",
       "    }\n",
       "</style>\n",
       "<table border=\"1\" class=\"dataframe\">\n",
       "  <thead>\n",
       "    <tr style=\"text-align: right;\">\n",
       "      <th></th>\n",
       "      <th>body</th>\n",
       "      <th>created_utc</th>\n",
       "      <th>sentiment</th>\n",
       "      <th>body_clean</th>\n",
       "    </tr>\n",
       "  </thead>\n",
       "  <tbody>\n",
       "    <tr>\n",
       "      <th>0</th>\n",
       "      <td>I'm waiting for the hacks in the marketing dep...</td>\n",
       "      <td>2014-12-31 23:56:33</td>\n",
       "      <td>0</td>\n",
       "      <td>I waiting hacks marketing department change co...</td>\n",
       "    </tr>\n",
       "    <tr>\n",
       "      <th>1</th>\n",
       "      <td>&amp;gt;And the great thing about the web is that ...</td>\n",
       "      <td>2015-01-01 00:35:56</td>\n",
       "      <td>1</td>\n",
       "      <td>And great thing web embed links talk And thank...</td>\n",
       "    </tr>\n",
       "    <tr>\n",
       "      <th>2</th>\n",
       "      <td>Many years ago I gave up giving Microsoft hint...</td>\n",
       "      <td>2015-01-01 01:55:38</td>\n",
       "      <td>1</td>\n",
       "      <td>Many years ago I gave giving Microsoft hints I...</td>\n",
       "    </tr>\n",
       "    <tr>\n",
       "      <th>3</th>\n",
       "      <td>Microsoft releases patches on Tuesday.</td>\n",
       "      <td>2015-01-01 02:14:01</td>\n",
       "      <td>0</td>\n",
       "      <td>Microsoft releases patches Tuesday</td>\n",
       "    </tr>\n",
       "    <tr>\n",
       "      <th>4</th>\n",
       "      <td>&amp;gt;Consider Microsoft Delve, a brilliant new ...</td>\n",
       "      <td>2015-01-01 02:17:48</td>\n",
       "      <td>1</td>\n",
       "      <td>Consider Microsoft Delve brilliant new Office ...</td>\n",
       "    </tr>\n",
       "  </tbody>\n",
       "</table>\n",
       "</div>"
      ],
      "text/plain": [
       "                                                body          created_utc  \\\n",
       "0  I'm waiting for the hacks in the marketing dep...  2014-12-31 23:56:33   \n",
       "1  &gt;And the great thing about the web is that ...  2015-01-01 00:35:56   \n",
       "2  Many years ago I gave up giving Microsoft hint...  2015-01-01 01:55:38   \n",
       "3             Microsoft releases patches on Tuesday.  2015-01-01 02:14:01   \n",
       "4  &gt;Consider Microsoft Delve, a brilliant new ...  2015-01-01 02:17:48   \n",
       "\n",
       "   sentiment                                         body_clean  \n",
       "0          0  I waiting hacks marketing department change co...  \n",
       "1          1  And great thing web embed links talk And thank...  \n",
       "2          1  Many years ago I gave giving Microsoft hints I...  \n",
       "3          0                 Microsoft releases patches Tuesday  \n",
       "4          1  Consider Microsoft Delve brilliant new Office ...  "
      ]
     },
     "metadata": {},
     "output_type": "display_data"
    }
   ],
   "source": [
    "#Erstellen einer \"body_clean\" Spalte aus der \"body\" Spalte durch die oben definierte Funktion\n",
    "df_train_microsoft.loc[:, 'body_clean'] = df_train_microsoft.loc[:, 'body'].apply(text_cleaner)\n",
    "display(df_train_microsoft.head())"
   ]
  },
  {
   "cell_type": "markdown",
   "metadata": {},
   "source": [
    "## Erstellen eines Feature-Vektors und Target-Vektors aus dem DataFrame "
   ]
  },
  {
   "cell_type": "code",
   "execution_count": 9,
   "metadata": {},
   "outputs": [],
   "source": [
    "features_microsoft = df_train_microsoft.loc[:, 'body_clean']\n",
    "target_microsoft = df_train_microsoft.loc[:, 'sentiment']"
   ]
  },
  {
   "cell_type": "markdown",
   "metadata": {},
   "source": [
    "# Vektorisierung\n",
    "## Bag of Words\n",
    "Die Methode *bag of words* (BoW) stellt Wörter in einem **Korpus** auf Basis der Frequenz des Wortes in jedem Text dar. Ein BoW-Algorithmus nimmt alle im Korpus vorhandenen eindeutigen Wörter und stellt jeden einzelnen Text dar, basierend darauf, wie oft ein Wort in diesem Text erscheint. Der Name (zu deutsch etwa Wörtersack) ergibt sich dadurch, dass die Reihenfolge und Struktur der Wörter im Text ignoriert wird. Es geht nur darum, ob ein Wort im Text enthalten ist, und nicht darum, wo sich dieses im Text befindet. \n",
    "\n",
    "\n",
    "\n",
    "Um die BoW-Vektorisierung anzuwenden, verwenden wir den *transformer* `CountVectorizer` aus `sklearn.feature_extraction.text` ([Link zur Dokumentation](https://scikit-learn.org/stable/modules/generated/sklearn.feature_extraction.text.CountVectorizer.html?highlight=countvectorizer#sklearn.feature_extraction.text.CountVectorizer))."
   ]
  },
  {
   "cell_type": "code",
   "execution_count": 10,
   "metadata": {},
   "outputs": [
    {
     "data": {
      "text/plain": [
       "scipy.sparse.csr.csr_matrix"
      ]
     },
     "execution_count": 10,
     "metadata": {},
     "output_type": "execute_result"
    }
   ],
   "source": [
    "#Importieren und Anwenden des sklearn-Objekts\n",
    "from sklearn.feature_extraction.text import CountVectorizer\n",
    "count_vectorizer = CountVectorizer()\n",
    "\n",
    "features_bow_microsoft = count_vectorizer.fit_transform(features_microsoft)\n",
    "type(features_bow_microsoft) #Output liegt als Sparse-Matrix vor"
   ]
  },
  {
   "cell_type": "markdown",
   "metadata": {},
   "source": [
    "### Betrachten des BOW-Vektors anhand eines Beispiels\n",
    "\n",
    "Da die Sparse-Matrix nicht einfach einsehbar ist müssen einige Schritte durchgeführt werden um einen lesbaren DataFrame zu erhalten."
   ]
  },
  {
   "cell_type": "code",
   "execution_count": 11,
   "metadata": {},
   "outputs": [
    {
     "data": {
      "text/plain": [
       "64098"
      ]
     },
     "execution_count": 11,
     "metadata": {},
     "output_type": "execute_result"
    }
   ],
   "source": [
    "#Extrahieren der features-names (alle Tokens) für die Bennenung der DataFrame-Spalten\n",
    "bow_microsoft_features_names = count_vectorizer.get_feature_names() \n",
    "len(bow_microsoft_features_names) #Anzahl der Tokens im Vektor"
   ]
  },
  {
   "cell_type": "code",
   "execution_count": 12,
   "metadata": {},
   "outputs": [
    {
     "data": {
      "text/html": [
       "<div>\n",
       "<style scoped>\n",
       "    .dataframe tbody tr th:only-of-type {\n",
       "        vertical-align: middle;\n",
       "    }\n",
       "\n",
       "    .dataframe tbody tr th {\n",
       "        vertical-align: top;\n",
       "    }\n",
       "\n",
       "    .dataframe thead th {\n",
       "        text-align: right;\n",
       "    }\n",
       "</style>\n",
       "<table border=\"1\" class=\"dataframe\">\n",
       "  <thead>\n",
       "    <tr style=\"text-align: right;\">\n",
       "      <th></th>\n",
       "      <th>00</th>\n",
       "      <th>000</th>\n",
       "      <th>0000</th>\n",
       "      <th>00000000</th>\n",
       "      <th>000000000000</th>\n",
       "      <th>00000001</th>\n",
       "      <th>0000002</th>\n",
       "      <th>000001</th>\n",
       "      <th>000005</th>\n",
       "      <th>000005531</th>\n",
       "      <th>...</th>\n",
       "      <th>разведки</th>\n",
       "      <th>росси</th>\n",
       "      <th>рственный</th>\n",
       "      <th>служба</th>\n",
       "      <th>федера</th>\n",
       "      <th>ции</th>\n",
       "      <th>ಠ_ಠ</th>\n",
       "      <th>드래고니카</th>\n",
       "      <th>라그나로크</th>\n",
       "      <th>온라인</th>\n",
       "    </tr>\n",
       "  </thead>\n",
       "  <tbody>\n",
       "    <tr>\n",
       "      <th>0</th>\n",
       "      <td>0</td>\n",
       "      <td>0</td>\n",
       "      <td>0</td>\n",
       "      <td>0</td>\n",
       "      <td>0</td>\n",
       "      <td>0</td>\n",
       "      <td>0</td>\n",
       "      <td>0</td>\n",
       "      <td>0</td>\n",
       "      <td>0</td>\n",
       "      <td>...</td>\n",
       "      <td>0</td>\n",
       "      <td>0</td>\n",
       "      <td>0</td>\n",
       "      <td>0</td>\n",
       "      <td>0</td>\n",
       "      <td>0</td>\n",
       "      <td>0</td>\n",
       "      <td>0</td>\n",
       "      <td>0</td>\n",
       "      <td>0</td>\n",
       "    </tr>\n",
       "    <tr>\n",
       "      <th>1</th>\n",
       "      <td>0</td>\n",
       "      <td>0</td>\n",
       "      <td>0</td>\n",
       "      <td>0</td>\n",
       "      <td>0</td>\n",
       "      <td>0</td>\n",
       "      <td>0</td>\n",
       "      <td>0</td>\n",
       "      <td>0</td>\n",
       "      <td>0</td>\n",
       "      <td>...</td>\n",
       "      <td>0</td>\n",
       "      <td>0</td>\n",
       "      <td>0</td>\n",
       "      <td>0</td>\n",
       "      <td>0</td>\n",
       "      <td>0</td>\n",
       "      <td>0</td>\n",
       "      <td>0</td>\n",
       "      <td>0</td>\n",
       "      <td>0</td>\n",
       "    </tr>\n",
       "    <tr>\n",
       "      <th>2</th>\n",
       "      <td>0</td>\n",
       "      <td>0</td>\n",
       "      <td>0</td>\n",
       "      <td>0</td>\n",
       "      <td>0</td>\n",
       "      <td>0</td>\n",
       "      <td>0</td>\n",
       "      <td>0</td>\n",
       "      <td>0</td>\n",
       "      <td>0</td>\n",
       "      <td>...</td>\n",
       "      <td>0</td>\n",
       "      <td>0</td>\n",
       "      <td>0</td>\n",
       "      <td>0</td>\n",
       "      <td>0</td>\n",
       "      <td>0</td>\n",
       "      <td>0</td>\n",
       "      <td>0</td>\n",
       "      <td>0</td>\n",
       "      <td>0</td>\n",
       "    </tr>\n",
       "    <tr>\n",
       "      <th>3</th>\n",
       "      <td>0</td>\n",
       "      <td>0</td>\n",
       "      <td>0</td>\n",
       "      <td>0</td>\n",
       "      <td>0</td>\n",
       "      <td>0</td>\n",
       "      <td>0</td>\n",
       "      <td>0</td>\n",
       "      <td>0</td>\n",
       "      <td>0</td>\n",
       "      <td>...</td>\n",
       "      <td>0</td>\n",
       "      <td>0</td>\n",
       "      <td>0</td>\n",
       "      <td>0</td>\n",
       "      <td>0</td>\n",
       "      <td>0</td>\n",
       "      <td>0</td>\n",
       "      <td>0</td>\n",
       "      <td>0</td>\n",
       "      <td>0</td>\n",
       "    </tr>\n",
       "    <tr>\n",
       "      <th>4</th>\n",
       "      <td>0</td>\n",
       "      <td>0</td>\n",
       "      <td>0</td>\n",
       "      <td>0</td>\n",
       "      <td>0</td>\n",
       "      <td>0</td>\n",
       "      <td>0</td>\n",
       "      <td>0</td>\n",
       "      <td>0</td>\n",
       "      <td>0</td>\n",
       "      <td>...</td>\n",
       "      <td>0</td>\n",
       "      <td>0</td>\n",
       "      <td>0</td>\n",
       "      <td>0</td>\n",
       "      <td>0</td>\n",
       "      <td>0</td>\n",
       "      <td>0</td>\n",
       "      <td>0</td>\n",
       "      <td>0</td>\n",
       "      <td>0</td>\n",
       "    </tr>\n",
       "  </tbody>\n",
       "</table>\n",
       "<p>5 rows × 64098 columns</p>\n",
       "</div>"
      ],
      "text/plain": [
       "   00  000  0000  00000000  000000000000  00000001  0000002  000001  000005  \\\n",
       "0   0    0     0         0             0         0        0       0       0   \n",
       "1   0    0     0         0             0         0        0       0       0   \n",
       "2   0    0     0         0             0         0        0       0       0   \n",
       "3   0    0     0         0             0         0        0       0       0   \n",
       "4   0    0     0         0             0         0        0       0       0   \n",
       "\n",
       "   000005531  ...  разведки  росси  рственный  служба  федера  ции  ಠ_ಠ  \\\n",
       "0          0  ...         0      0          0       0       0    0    0   \n",
       "1          0  ...         0      0          0       0       0    0    0   \n",
       "2          0  ...         0      0          0       0       0    0    0   \n",
       "3          0  ...         0      0          0       0       0    0    0   \n",
       "4          0  ...         0      0          0       0       0    0    0   \n",
       "\n",
       "   드래고니카  라그나로크  온라인  \n",
       "0      0      0    0  \n",
       "1      0      0    0  \n",
       "2      0      0    0  \n",
       "3      0      0    0  \n",
       "4      0      0    0  \n",
       "\n",
       "[5 rows x 64098 columns]"
      ]
     },
     "execution_count": 12,
     "metadata": {},
     "output_type": "execute_result"
    }
   ],
   "source": [
    "## Variante ohne spezielle pandas Methoden\n",
    "# bow_microsoft_array = features_bow_microsoft.toarray()\n",
    "# bow_df = pd.DataFrame(bow_microsoft_array, columns=bow_microsoft_features_names)\n",
    "\n",
    "#Erstellen des DataFrames aus der Sparse-Matrix mit dafür vorgesehenen pandas Funktionen\n",
    "bow_df = pd.DataFrame.sparse.from_spmatrix(features_bow_microsoft, columns=bow_microsoft_features_names)\n",
    "bow_df.head()"
   ]
  },
  {
   "cell_type": "markdown",
   "metadata": {},
   "source": [
    "Etwas deutlicher wird das Ganze wenn man sich den DataFrame für bestimmte Worte anschaut.\n",
    "\n",
    "Wie erwartet ist das Wort microsoft in jeder Nachricht vorhanden, nach diesem Wort haben wir die Kommentare des Subreddits für diesen DataFrame durchsucht."
   ]
  },
  {
   "cell_type": "code",
   "execution_count": 13,
   "metadata": {},
   "outputs": [
    {
     "data": {
      "text/html": [
       "<div>\n",
       "<style scoped>\n",
       "    .dataframe tbody tr th:only-of-type {\n",
       "        vertical-align: middle;\n",
       "    }\n",
       "\n",
       "    .dataframe tbody tr th {\n",
       "        vertical-align: top;\n",
       "    }\n",
       "\n",
       "    .dataframe thead th {\n",
       "        text-align: right;\n",
       "    }\n",
       "</style>\n",
       "<table border=\"1\" class=\"dataframe\">\n",
       "  <thead>\n",
       "    <tr style=\"text-align: right;\">\n",
       "      <th></th>\n",
       "      <th>secure</th>\n",
       "      <th>microsoft</th>\n",
       "      <th>patches</th>\n",
       "    </tr>\n",
       "  </thead>\n",
       "  <tbody>\n",
       "    <tr>\n",
       "      <th>0</th>\n",
       "      <td>0</td>\n",
       "      <td>1</td>\n",
       "      <td>0</td>\n",
       "    </tr>\n",
       "    <tr>\n",
       "      <th>1</th>\n",
       "      <td>0</td>\n",
       "      <td>5</td>\n",
       "      <td>0</td>\n",
       "    </tr>\n",
       "    <tr>\n",
       "      <th>2</th>\n",
       "      <td>0</td>\n",
       "      <td>2</td>\n",
       "      <td>0</td>\n",
       "    </tr>\n",
       "    <tr>\n",
       "      <th>3</th>\n",
       "      <td>0</td>\n",
       "      <td>1</td>\n",
       "      <td>1</td>\n",
       "    </tr>\n",
       "    <tr>\n",
       "      <th>4</th>\n",
       "      <td>1</td>\n",
       "      <td>2</td>\n",
       "      <td>0</td>\n",
       "    </tr>\n",
       "    <tr>\n",
       "      <th>5</th>\n",
       "      <td>0</td>\n",
       "      <td>2</td>\n",
       "      <td>0</td>\n",
       "    </tr>\n",
       "  </tbody>\n",
       "</table>\n",
       "</div>"
      ],
      "text/plain": [
       "   secure  microsoft  patches\n",
       "0       0          1        0\n",
       "1       0          5        0\n",
       "2       0          2        0\n",
       "3       0          1        1\n",
       "4       1          2        0\n",
       "5       0          2        0"
      ]
     },
     "execution_count": 13,
     "metadata": {},
     "output_type": "execute_result"
    }
   ],
   "source": [
    "bow_df.loc[:5, ['secure','microsoft','patches']]"
   ]
  },
  {
   "cell_type": "markdown",
   "metadata": {},
   "source": [
    "## Term frequency-inverse document frequency Methode (TF-IDF)"
   ]
  },
  {
   "cell_type": "markdown",
   "metadata": {},
   "source": [
    "Während die BoW-Methode mit dem `CountVectorizer` Wörter anhand ihrer Häufigkeit im Text vektorisiert, berücksichtigt die *Term Frequency-Inverse Document Frequency* (**TF-IDF**) Vektorisierung die *Relevanz* eines Wortes. \n",
    "\n",
    "Um die Relevanz eines Wortes zu bestimmen, berücksichtigt TF-IDF, wie der Name schon sagt, zwei Dinge:\n",
    "\n",
    "1. Wie oft ein **Wort** in einer **einzelnen Nachricht** erscheint, bezogen auf die Anzahl der Wörter in derselben **Nachricht** (*term frequency*, das **TF** in **TF-IDF**). \n",
    "\n",
    "\n",
    "\\begin{equation*}\n",
    "\\mathrm{TF}\\left( \\textbf{Token}, \\textbf{Text} \\right) = \\frac{\\mathrm{Anzahl \\, des  \\textbf{ Tokens} \\,in\\, einem\\, \\textbf{Text}}}{\\mathrm{Anzahl\\, aller\\, Tokens\\, im\\, gleichen\\,\\textbf{Text}}}\n",
    "\\end{equation*}\n",
    "\n",
    "2. Wie oft ein **Wort** im gesamten **Korpus** erscheint, im Verhältnis zur **Größe des Korpus** (*inverse document frequency*, das **IDF** in **TF-IDF**).\n",
    "\n",
    "\\begin{equation*}\n",
    "\\mathrm{IDF}\\left(\\textbf{Token}, \\textbf{Korpus}\\right) = \\ln\\left( \\frac{\\mathrm{Anzahl \\, der \\,\\textbf{Texte}\\, im \\, \\textbf{Korpus}}}{\\mathrm{Anzahl \\, der \\, \\textbf{Texte}, \\, die \\, den \\, \\textbf{Token} \\, enthalten}}\\right)\n",
    "\\end{equation*}\n",
    "\n",
    "Hier handelt es sich um einen *natürlichen Logarithmus*. Der **TF-IDF**-Wert von einem **Wort** in einer **Nachricht** im **Korpus** ist definiert als Produkt von **TF** und **IDF**.\n",
    "\n",
    "\\begin{equation*}\n",
    "\\mathrm{TF\\text{-}IDF} (\\textbf{Token},\\textbf{Text}, \\textbf{Korpus}) = \\mathrm{TF}(\\textbf{Token},\\textbf{Text}) \\,\\cdot \\, \\mathrm{IDF}(\\textbf{Token}, \\textbf{Korpus})\n",
    "\\end{equation*}\n",
    "\n",
    "Je mehr **Nachrichten** existieren, in welchen das **Wort** enthalten ist, desto weniger wertvoll ist dieses **Wort** für die Unterscheidung von Textarten. Der **TF-IDF** von einem solchen **Wort** würde klein sein. Ein wichtiges **Wort** wäre eines, welches nur sehr selten im gesamten **Korpus** vorkommt. \n"
   ]
  },
  {
   "cell_type": "markdown",
   "metadata": {},
   "source": [
    "\n",
    "<img src=\"tfidf-Graph.jpg\">\n",
    "\n",
    "\n",
    "\n"
   ]
  },
  {
   "cell_type": "markdown",
   "metadata": {},
   "source": [
    "`sklearn` bietet uns wieder einen *transfromer* an, der die TF-IDF-Vektorisierung für uns übernimmt. Er heißt `TfidfVectorizer` und befindet sich auch in `sklearn.feature_extraction.text` ([Link zur Dokumentation](https://scikit-learn.org/stable/modules/generated/sklearn.feature_extraction.text.TfidfVectorizer.html?highlight=tfidf#sklearn.feature_extraction.text.TfidfVectorizer))."
   ]
  },
  {
   "cell_type": "code",
   "execution_count": 14,
   "metadata": {},
   "outputs": [
    {
     "data": {
      "text/plain": [
       "scipy.sparse.csr.csr_matrix"
      ]
     },
     "execution_count": 14,
     "metadata": {},
     "output_type": "execute_result"
    }
   ],
   "source": [
    "# Import und Anwendung des TfidfVectorizers \n",
    "from sklearn.feature_extraction.text import TfidfVectorizer\n",
    "tfidf_vectorizer = TfidfVectorizer()\n",
    "\n",
    "features_tfidf_microsoft = tfidf_vectorizer.fit_transform(features_microsoft)\n",
    "type(features_tfidf_microsoft) #Output ist wieder eine Sparse-Matrix"
   ]
  },
  {
   "cell_type": "markdown",
   "metadata": {},
   "source": [
    "### Betrachten des TF-IDF Vektors anhand eines Beispiels"
   ]
  },
  {
   "cell_type": "code",
   "execution_count": 15,
   "metadata": {},
   "outputs": [
    {
     "data": {
      "text/plain": [
       "64098"
      ]
     },
     "execution_count": 15,
     "metadata": {},
     "output_type": "execute_result"
    }
   ],
   "source": [
    "tfidf_microsoft_features_names = tfidf_vectorizer.get_feature_names() \n",
    "len(tfidf_microsoft_features_names)"
   ]
  },
  {
   "cell_type": "code",
   "execution_count": 16,
   "metadata": {},
   "outputs": [
    {
     "data": {
      "text/html": [
       "<div>\n",
       "<style scoped>\n",
       "    .dataframe tbody tr th:only-of-type {\n",
       "        vertical-align: middle;\n",
       "    }\n",
       "\n",
       "    .dataframe tbody tr th {\n",
       "        vertical-align: top;\n",
       "    }\n",
       "\n",
       "    .dataframe thead th {\n",
       "        text-align: right;\n",
       "    }\n",
       "</style>\n",
       "<table border=\"1\" class=\"dataframe\">\n",
       "  <thead>\n",
       "    <tr style=\"text-align: right;\">\n",
       "      <th></th>\n",
       "      <th>00</th>\n",
       "      <th>000</th>\n",
       "      <th>0000</th>\n",
       "      <th>00000000</th>\n",
       "      <th>000000000000</th>\n",
       "      <th>00000001</th>\n",
       "      <th>0000002</th>\n",
       "      <th>000001</th>\n",
       "      <th>000005</th>\n",
       "      <th>000005531</th>\n",
       "      <th>...</th>\n",
       "      <th>разведки</th>\n",
       "      <th>росси</th>\n",
       "      <th>рственный</th>\n",
       "      <th>служба</th>\n",
       "      <th>федера</th>\n",
       "      <th>ции</th>\n",
       "      <th>ಠ_ಠ</th>\n",
       "      <th>드래고니카</th>\n",
       "      <th>라그나로크</th>\n",
       "      <th>온라인</th>\n",
       "    </tr>\n",
       "  </thead>\n",
       "  <tbody>\n",
       "    <tr>\n",
       "      <th>0</th>\n",
       "      <td>0.0</td>\n",
       "      <td>0.0</td>\n",
       "      <td>0.0</td>\n",
       "      <td>0.0</td>\n",
       "      <td>0.0</td>\n",
       "      <td>0.0</td>\n",
       "      <td>0.0</td>\n",
       "      <td>0.0</td>\n",
       "      <td>0.0</td>\n",
       "      <td>0.0</td>\n",
       "      <td>...</td>\n",
       "      <td>0.0</td>\n",
       "      <td>0.0</td>\n",
       "      <td>0.0</td>\n",
       "      <td>0.0</td>\n",
       "      <td>0.0</td>\n",
       "      <td>0.0</td>\n",
       "      <td>0.0</td>\n",
       "      <td>0.0</td>\n",
       "      <td>0.0</td>\n",
       "      <td>0.0</td>\n",
       "    </tr>\n",
       "    <tr>\n",
       "      <th>1</th>\n",
       "      <td>0.0</td>\n",
       "      <td>0.0</td>\n",
       "      <td>0.0</td>\n",
       "      <td>0.0</td>\n",
       "      <td>0.0</td>\n",
       "      <td>0.0</td>\n",
       "      <td>0.0</td>\n",
       "      <td>0.0</td>\n",
       "      <td>0.0</td>\n",
       "      <td>0.0</td>\n",
       "      <td>...</td>\n",
       "      <td>0.0</td>\n",
       "      <td>0.0</td>\n",
       "      <td>0.0</td>\n",
       "      <td>0.0</td>\n",
       "      <td>0.0</td>\n",
       "      <td>0.0</td>\n",
       "      <td>0.0</td>\n",
       "      <td>0.0</td>\n",
       "      <td>0.0</td>\n",
       "      <td>0.0</td>\n",
       "    </tr>\n",
       "    <tr>\n",
       "      <th>2</th>\n",
       "      <td>0.0</td>\n",
       "      <td>0.0</td>\n",
       "      <td>0.0</td>\n",
       "      <td>0.0</td>\n",
       "      <td>0.0</td>\n",
       "      <td>0.0</td>\n",
       "      <td>0.0</td>\n",
       "      <td>0.0</td>\n",
       "      <td>0.0</td>\n",
       "      <td>0.0</td>\n",
       "      <td>...</td>\n",
       "      <td>0.0</td>\n",
       "      <td>0.0</td>\n",
       "      <td>0.0</td>\n",
       "      <td>0.0</td>\n",
       "      <td>0.0</td>\n",
       "      <td>0.0</td>\n",
       "      <td>0.0</td>\n",
       "      <td>0.0</td>\n",
       "      <td>0.0</td>\n",
       "      <td>0.0</td>\n",
       "    </tr>\n",
       "    <tr>\n",
       "      <th>3</th>\n",
       "      <td>0.0</td>\n",
       "      <td>0.0</td>\n",
       "      <td>0.0</td>\n",
       "      <td>0.0</td>\n",
       "      <td>0.0</td>\n",
       "      <td>0.0</td>\n",
       "      <td>0.0</td>\n",
       "      <td>0.0</td>\n",
       "      <td>0.0</td>\n",
       "      <td>0.0</td>\n",
       "      <td>...</td>\n",
       "      <td>0.0</td>\n",
       "      <td>0.0</td>\n",
       "      <td>0.0</td>\n",
       "      <td>0.0</td>\n",
       "      <td>0.0</td>\n",
       "      <td>0.0</td>\n",
       "      <td>0.0</td>\n",
       "      <td>0.0</td>\n",
       "      <td>0.0</td>\n",
       "      <td>0.0</td>\n",
       "    </tr>\n",
       "    <tr>\n",
       "      <th>4</th>\n",
       "      <td>0.0</td>\n",
       "      <td>0.0</td>\n",
       "      <td>0.0</td>\n",
       "      <td>0.0</td>\n",
       "      <td>0.0</td>\n",
       "      <td>0.0</td>\n",
       "      <td>0.0</td>\n",
       "      <td>0.0</td>\n",
       "      <td>0.0</td>\n",
       "      <td>0.0</td>\n",
       "      <td>...</td>\n",
       "      <td>0.0</td>\n",
       "      <td>0.0</td>\n",
       "      <td>0.0</td>\n",
       "      <td>0.0</td>\n",
       "      <td>0.0</td>\n",
       "      <td>0.0</td>\n",
       "      <td>0.0</td>\n",
       "      <td>0.0</td>\n",
       "      <td>0.0</td>\n",
       "      <td>0.0</td>\n",
       "    </tr>\n",
       "    <tr>\n",
       "      <th>...</th>\n",
       "      <td>...</td>\n",
       "      <td>...</td>\n",
       "      <td>...</td>\n",
       "      <td>...</td>\n",
       "      <td>...</td>\n",
       "      <td>...</td>\n",
       "      <td>...</td>\n",
       "      <td>...</td>\n",
       "      <td>...</td>\n",
       "      <td>...</td>\n",
       "      <td>...</td>\n",
       "      <td>...</td>\n",
       "      <td>...</td>\n",
       "      <td>...</td>\n",
       "      <td>...</td>\n",
       "      <td>...</td>\n",
       "      <td>...</td>\n",
       "      <td>...</td>\n",
       "      <td>...</td>\n",
       "      <td>...</td>\n",
       "      <td>...</td>\n",
       "    </tr>\n",
       "    <tr>\n",
       "      <th>69324</th>\n",
       "      <td>0.0</td>\n",
       "      <td>0.0</td>\n",
       "      <td>0.0</td>\n",
       "      <td>0.0</td>\n",
       "      <td>0.0</td>\n",
       "      <td>0.0</td>\n",
       "      <td>0.0</td>\n",
       "      <td>0.0</td>\n",
       "      <td>0.0</td>\n",
       "      <td>0.0</td>\n",
       "      <td>...</td>\n",
       "      <td>0.0</td>\n",
       "      <td>0.0</td>\n",
       "      <td>0.0</td>\n",
       "      <td>0.0</td>\n",
       "      <td>0.0</td>\n",
       "      <td>0.0</td>\n",
       "      <td>0.0</td>\n",
       "      <td>0.0</td>\n",
       "      <td>0.0</td>\n",
       "      <td>0.0</td>\n",
       "    </tr>\n",
       "    <tr>\n",
       "      <th>69325</th>\n",
       "      <td>0.0</td>\n",
       "      <td>0.0</td>\n",
       "      <td>0.0</td>\n",
       "      <td>0.0</td>\n",
       "      <td>0.0</td>\n",
       "      <td>0.0</td>\n",
       "      <td>0.0</td>\n",
       "      <td>0.0</td>\n",
       "      <td>0.0</td>\n",
       "      <td>0.0</td>\n",
       "      <td>...</td>\n",
       "      <td>0.0</td>\n",
       "      <td>0.0</td>\n",
       "      <td>0.0</td>\n",
       "      <td>0.0</td>\n",
       "      <td>0.0</td>\n",
       "      <td>0.0</td>\n",
       "      <td>0.0</td>\n",
       "      <td>0.0</td>\n",
       "      <td>0.0</td>\n",
       "      <td>0.0</td>\n",
       "    </tr>\n",
       "    <tr>\n",
       "      <th>69326</th>\n",
       "      <td>0.0</td>\n",
       "      <td>0.0</td>\n",
       "      <td>0.0</td>\n",
       "      <td>0.0</td>\n",
       "      <td>0.0</td>\n",
       "      <td>0.0</td>\n",
       "      <td>0.0</td>\n",
       "      <td>0.0</td>\n",
       "      <td>0.0</td>\n",
       "      <td>0.0</td>\n",
       "      <td>...</td>\n",
       "      <td>0.0</td>\n",
       "      <td>0.0</td>\n",
       "      <td>0.0</td>\n",
       "      <td>0.0</td>\n",
       "      <td>0.0</td>\n",
       "      <td>0.0</td>\n",
       "      <td>0.0</td>\n",
       "      <td>0.0</td>\n",
       "      <td>0.0</td>\n",
       "      <td>0.0</td>\n",
       "    </tr>\n",
       "    <tr>\n",
       "      <th>69327</th>\n",
       "      <td>0.0</td>\n",
       "      <td>0.0</td>\n",
       "      <td>0.0</td>\n",
       "      <td>0.0</td>\n",
       "      <td>0.0</td>\n",
       "      <td>0.0</td>\n",
       "      <td>0.0</td>\n",
       "      <td>0.0</td>\n",
       "      <td>0.0</td>\n",
       "      <td>0.0</td>\n",
       "      <td>...</td>\n",
       "      <td>0.0</td>\n",
       "      <td>0.0</td>\n",
       "      <td>0.0</td>\n",
       "      <td>0.0</td>\n",
       "      <td>0.0</td>\n",
       "      <td>0.0</td>\n",
       "      <td>0.0</td>\n",
       "      <td>0.0</td>\n",
       "      <td>0.0</td>\n",
       "      <td>0.0</td>\n",
       "    </tr>\n",
       "    <tr>\n",
       "      <th>69328</th>\n",
       "      <td>0.0</td>\n",
       "      <td>0.0</td>\n",
       "      <td>0.0</td>\n",
       "      <td>0.0</td>\n",
       "      <td>0.0</td>\n",
       "      <td>0.0</td>\n",
       "      <td>0.0</td>\n",
       "      <td>0.0</td>\n",
       "      <td>0.0</td>\n",
       "      <td>0.0</td>\n",
       "      <td>...</td>\n",
       "      <td>0.0</td>\n",
       "      <td>0.0</td>\n",
       "      <td>0.0</td>\n",
       "      <td>0.0</td>\n",
       "      <td>0.0</td>\n",
       "      <td>0.0</td>\n",
       "      <td>0.0</td>\n",
       "      <td>0.0</td>\n",
       "      <td>0.0</td>\n",
       "      <td>0.0</td>\n",
       "    </tr>\n",
       "  </tbody>\n",
       "</table>\n",
       "<p>69329 rows × 64098 columns</p>\n",
       "</div>"
      ],
      "text/plain": [
       "        00  000  0000  00000000  000000000000  00000001  0000002  000001  \\\n",
       "0      0.0  0.0   0.0       0.0           0.0       0.0      0.0     0.0   \n",
       "1      0.0  0.0   0.0       0.0           0.0       0.0      0.0     0.0   \n",
       "2      0.0  0.0   0.0       0.0           0.0       0.0      0.0     0.0   \n",
       "3      0.0  0.0   0.0       0.0           0.0       0.0      0.0     0.0   \n",
       "4      0.0  0.0   0.0       0.0           0.0       0.0      0.0     0.0   \n",
       "...    ...  ...   ...       ...           ...       ...      ...     ...   \n",
       "69324  0.0  0.0   0.0       0.0           0.0       0.0      0.0     0.0   \n",
       "69325  0.0  0.0   0.0       0.0           0.0       0.0      0.0     0.0   \n",
       "69326  0.0  0.0   0.0       0.0           0.0       0.0      0.0     0.0   \n",
       "69327  0.0  0.0   0.0       0.0           0.0       0.0      0.0     0.0   \n",
       "69328  0.0  0.0   0.0       0.0           0.0       0.0      0.0     0.0   \n",
       "\n",
       "       000005  000005531  ...  разведки  росси  рственный  служба  федера  \\\n",
       "0         0.0        0.0  ...       0.0    0.0        0.0     0.0     0.0   \n",
       "1         0.0        0.0  ...       0.0    0.0        0.0     0.0     0.0   \n",
       "2         0.0        0.0  ...       0.0    0.0        0.0     0.0     0.0   \n",
       "3         0.0        0.0  ...       0.0    0.0        0.0     0.0     0.0   \n",
       "4         0.0        0.0  ...       0.0    0.0        0.0     0.0     0.0   \n",
       "...       ...        ...  ...       ...    ...        ...     ...     ...   \n",
       "69324     0.0        0.0  ...       0.0    0.0        0.0     0.0     0.0   \n",
       "69325     0.0        0.0  ...       0.0    0.0        0.0     0.0     0.0   \n",
       "69326     0.0        0.0  ...       0.0    0.0        0.0     0.0     0.0   \n",
       "69327     0.0        0.0  ...       0.0    0.0        0.0     0.0     0.0   \n",
       "69328     0.0        0.0  ...       0.0    0.0        0.0     0.0     0.0   \n",
       "\n",
       "       ции  ಠ_ಠ  드래고니카  라그나로크  온라인  \n",
       "0      0.0  0.0    0.0    0.0  0.0  \n",
       "1      0.0  0.0    0.0    0.0  0.0  \n",
       "2      0.0  0.0    0.0    0.0  0.0  \n",
       "3      0.0  0.0    0.0    0.0  0.0  \n",
       "4      0.0  0.0    0.0    0.0  0.0  \n",
       "...    ...  ...    ...    ...  ...  \n",
       "69324  0.0  0.0    0.0    0.0  0.0  \n",
       "69325  0.0  0.0    0.0    0.0  0.0  \n",
       "69326  0.0  0.0    0.0    0.0  0.0  \n",
       "69327  0.0  0.0    0.0    0.0  0.0  \n",
       "69328  0.0  0.0    0.0    0.0  0.0  \n",
       "\n",
       "[69329 rows x 64098 columns]"
      ]
     },
     "execution_count": 16,
     "metadata": {},
     "output_type": "execute_result"
    }
   ],
   "source": [
    "#Umwandlung in einen DataFrame, um Einsicht in die Daten zu erhalten\n",
    "#Für die reine Analyse nicht notwendig\n",
    "tfidf_df = pd.DataFrame.sparse.from_spmatrix(features_tfidf_microsoft, columns=tfidf_microsoft_features_names)\n",
    "tfidf_df"
   ]
  },
  {
   "cell_type": "code",
   "execution_count": 17,
   "metadata": {},
   "outputs": [
    {
     "data": {
      "text/html": [
       "<div>\n",
       "<style scoped>\n",
       "    .dataframe tbody tr th:only-of-type {\n",
       "        vertical-align: middle;\n",
       "    }\n",
       "\n",
       "    .dataframe tbody tr th {\n",
       "        vertical-align: top;\n",
       "    }\n",
       "\n",
       "    .dataframe thead th {\n",
       "        text-align: right;\n",
       "    }\n",
       "</style>\n",
       "<table border=\"1\" class=\"dataframe\">\n",
       "  <thead>\n",
       "    <tr style=\"text-align: right;\">\n",
       "      <th></th>\n",
       "      <th>secure</th>\n",
       "      <th>microsoft</th>\n",
       "      <th>patches</th>\n",
       "    </tr>\n",
       "  </thead>\n",
       "  <tbody>\n",
       "    <tr>\n",
       "      <th>0</th>\n",
       "      <td>0.000000</td>\n",
       "      <td>0.037804</td>\n",
       "      <td>0.00000</td>\n",
       "    </tr>\n",
       "    <tr>\n",
       "      <th>1</th>\n",
       "      <td>0.000000</td>\n",
       "      <td>0.067418</td>\n",
       "      <td>0.00000</td>\n",
       "    </tr>\n",
       "    <tr>\n",
       "      <th>2</th>\n",
       "      <td>0.000000</td>\n",
       "      <td>0.073409</td>\n",
       "      <td>0.00000</td>\n",
       "    </tr>\n",
       "    <tr>\n",
       "      <th>3</th>\n",
       "      <td>0.000000</td>\n",
       "      <td>0.088466</td>\n",
       "      <td>0.52097</td>\n",
       "    </tr>\n",
       "    <tr>\n",
       "      <th>4</th>\n",
       "      <td>0.140447</td>\n",
       "      <td>0.053628</td>\n",
       "      <td>0.00000</td>\n",
       "    </tr>\n",
       "    <tr>\n",
       "      <th>5</th>\n",
       "      <td>0.000000</td>\n",
       "      <td>0.044029</td>\n",
       "      <td>0.00000</td>\n",
       "    </tr>\n",
       "  </tbody>\n",
       "</table>\n",
       "</div>"
      ],
      "text/plain": [
       "     secure  microsoft  patches\n",
       "0  0.000000   0.037804  0.00000\n",
       "1  0.000000   0.067418  0.00000\n",
       "2  0.000000   0.073409  0.00000\n",
       "3  0.000000   0.088466  0.52097\n",
       "4  0.140447   0.053628  0.00000\n",
       "5  0.000000   0.044029  0.00000"
      ]
     },
     "execution_count": 17,
     "metadata": {},
     "output_type": "execute_result"
    }
   ],
   "source": [
    "tfidf_df.loc[:5, ['secure','microsoft','patches']]"
   ]
  },
  {
   "cell_type": "markdown",
   "metadata": {},
   "source": [
    "## Einblicke in die IDF-Werte\n",
    "Das Attribut `tfidf_vectorizer.idf_` gibt die IDF-Werte jedes *token* an. Hier betrachten wir den maximalen und minimalen IDF-Wert im Dokument."
   ]
  },
  {
   "cell_type": "code",
   "execution_count": 18,
   "metadata": {},
   "outputs": [
    {
     "name": "stdout",
     "output_type": "stream",
     "text": [
      "Maximaler IDF Wert:  11.453485811376591\n",
      "Minimaler IDF Wert:  1.0\n"
     ]
    }
   ],
   "source": [
    "idf_values = tfidf_vectorizer.idf_\n",
    "print(\"Maximaler IDF Wert: \", max(idf_values))\n",
    "print(\"Minimaler IDF Wert: \", min(idf_values))"
   ]
  },
  {
   "cell_type": "code",
   "execution_count": 19,
   "metadata": {},
   "outputs": [
    {
     "name": "stdout",
     "output_type": "stream",
     "text": [
      "IDF Wert von 'microsoft':  1.0\n"
     ]
    }
   ],
   "source": [
    "print(\"IDF Wert von 'microsoft': \", idf_values[tfidf_microsoft_features_names.index(\"microsoft\")]) #low as expected"
   ]
  },
  {
   "cell_type": "code",
   "execution_count": 20,
   "metadata": {},
   "outputs": [
    {
     "name": "stdout",
     "output_type": "stream",
     "text": [
      "IDF Wert von 'secure':  5.2378782126213155\n"
     ]
    }
   ],
   "source": [
    "print(\"IDF Wert von 'secure': \", idf_values[tfidf_microsoft_features_names.index(\"secure\")])"
   ]
  },
  {
   "cell_type": "code",
   "execution_count": 21,
   "metadata": {},
   "outputs": [
    {
     "name": "stdout",
     "output_type": "stream",
     "text": [
      "IDF Wert von 'patches':  5.888965404053898\n"
     ]
    }
   ],
   "source": [
    "print(\"IDF Wert von 'patches': \", idf_values[tfidf_microsoft_features_names.index(\"patches\")])"
   ]
  },
  {
   "cell_type": "markdown",
   "metadata": {},
   "source": [
    "## Sentiment Analyse mit unserem eigenen Modell\n",
    "\n",
    "Die Trainingsdaten wurden mit VADER analyisert.\n",
    "\n",
    "\"VADER (Valence Aware Dictionary and sEntiment Reasoner) is a lexicon and rule-based sentiment analysis tool that is specifically attuned to sentiments expressed in social media, and works well on texts from other domains.\"\n",
    "\n",
    "Um die grundlegenden Schritte die Tools wie VADER für uns übernehmen zu verstehen, sind wir hier durch die einzelnen Schritte gegangen um unsere selbstaufbereiteten Daten und einen simplen Klassifikationsalgorithmus für die Sentiment Analyse zu nutzen.\n",
    "\n",
    "Der letzte Schritt ist das Trainieren und Tunen eines Machine Learning Modells.\n",
    "\n"
   ]
  },
  {
   "cell_type": "markdown",
   "metadata": {},
   "source": [
    "### Kurzer Einblick in die Verteilung der Sentiment Klassen"
   ]
  },
  {
   "cell_type": "code",
   "execution_count": 22,
   "metadata": {},
   "outputs": [
    {
     "data": {
      "text/plain": [
       " 1    36690\n",
       "-1    23922\n",
       " 0     8717\n",
       "Name: sentiment, dtype: int64"
      ]
     },
     "execution_count": 22,
     "metadata": {},
     "output_type": "execute_result"
    }
   ],
   "source": [
    "df_train_microsoft.loc[:, 'sentiment'].value_counts()"
   ]
  },
  {
   "cell_type": "markdown",
   "metadata": {},
   "source": [
    "Wie unschwer zu erkennen ist, sind die Klassen nicht gleichverteilt. Positives Sentiment überwiegt, neutrales ist relativ selten. Dies mag auch an den ungleichen Cut-Off Intervallen liegen, die VADER vorschlägt."
   ]
  },
  {
   "cell_type": "markdown",
   "metadata": {},
   "source": [
    "## Klassifikationsmodell\n",
    "\n",
    "Für die Klassifikation nutzen wir Multinomial Naive Bayes. Dieser Algorithmus kann mit den vorliegenden Vektoren schnell trainiert werden und liefert passable Ergebnisse. Andere Algorithmen mögen performanter sein, benötigen aber deutlich längere Trainingszeiten.\n",
    "\n",
    "Weiterhin wird Kreuzvalidierung genutzt um die Performance der Modelle unde Vektorisierungsarten zu testen. Da die Klassen nicht ausgeglichen sind dienen uns der F1 Wert, die Präzision und Recall (Sensitivität) in ihrer gewichteten Form als Metriken."
   ]
  },
  {
   "cell_type": "code",
   "execution_count": 23,
   "metadata": {},
   "outputs": [],
   "source": [
    "# Importieren der Notwendingen Objekte und Funktionen aus sklearn\n",
    "from sklearn.naive_bayes import MultinomialNB\n",
    "from sklearn.model_selection import cross_validate"
   ]
  },
  {
   "cell_type": "code",
   "execution_count": 24,
   "metadata": {},
   "outputs": [],
   "source": [
    "# Instanzieren des Modells\n",
    "clf = MultinomialNB()\n",
    "\n",
    "#Kreuzvalidierung (5-Fach) der BOW-Methode\n",
    "cv_results_bow = cross_validate(estimator = clf,\n",
    "                            X=features_bow_microsoft,\n",
    "                            y=target_microsoft,\n",
    "                           scoring=[\"precision_weighted\",\"recall_weighted\",\"f1_weighted\"])\n",
    "#Kreuzvalidierung (5-Fach) der TF-IDF-Methode\n",
    "cv_results_tfidf = cross_validate(estimator = clf,\n",
    "                            X=features_tfidf_microsoft,\n",
    "                            y=target_microsoft,\n",
    "                           scoring=[\"precision_weighted\",\"recall_weighted\",\"f1_weighted\"])\n",
    "\n",
    "#Errechnung der durchschnittlichen Werte für jede Metrik (über alle Kreuzvalidierungen hinweg)\n",
    "bow_precision = cv_results_bow[\"test_precision_weighted\"].mean()\n",
    "bow_recall = cv_results_bow[\"test_recall_weighted\"].mean()\n",
    "bow_f1 = cv_results_bow[\"test_f1_weighted\"].mean()\n",
    "\n",
    "tfidf_precision = cv_results_tfidf[\"test_precision_weighted\"].mean()\n",
    "tfidf_recall = cv_results_tfidf[\"test_recall_weighted\"].mean()\n",
    "tfidf_f1 = cv_results_tfidf[\"test_f1_weighted\"].mean()"
   ]
  },
  {
   "cell_type": "code",
   "execution_count": 25,
   "metadata": {},
   "outputs": [
    {
     "name": "stdout",
     "output_type": "stream",
     "text": [
      "Precision BOW (Nach Klassen Gewichtet): 0.6293708855444472\n",
      "Recall BOW (Nach Klassen Gewichtet): 0.6478529185300405\n",
      "F1 BOW (Nach Klassen Gewichtet): 0.6222384806840553\n",
      "Precision TF-IDF(Nach Klassen Gewichtet): 0.6471353916284108\n",
      "Recall TF-IDF (Nach Klassen Gewichtet): 0.5716221800241547\n",
      "F1 TF-IDF (Nach Klassen Gewichtet): 0.4583746525218597\n"
     ]
    }
   ],
   "source": [
    "print(f\"Precision BOW (Nach Klassen Gewichtet): {bow_precision}\")\n",
    "print(f\"Recall BOW (Nach Klassen Gewichtet): {bow_recall}\")\n",
    "print(f\"F1 BOW (Nach Klassen Gewichtet): {bow_f1}\")\n",
    "print(f\"Precision TF-IDF(Nach Klassen Gewichtet): {tfidf_precision}\")\n",
    "print(f\"Recall TF-IDF (Nach Klassen Gewichtet): {tfidf_recall}\")\n",
    "print(f\"F1 TF-IDF (Nach Klassen Gewichtet): {tfidf_f1}\")"
   ]
  },
  {
   "cell_type": "markdown",
   "metadata": {},
   "source": [
    "Anhand der Ergebnisse, erkennt man schnell, dass der BOW Ansatz bessere Ergebnisse liefert als TF-IDF."
   ]
  },
  {
   "cell_type": "markdown",
   "metadata": {},
   "source": [
    "## Hyperparameter\n",
    "\n",
    "\n",
    "\n",
    "Bisher wurden die Vectorizer mit ihren Standard-Parametern genutzt. Es kann sich allerdings lohnen diese zu verändern, um zum Beispiel besser Performance in der Klassifikation zu erreichen. Die wichtigsten Parameter sind hierbei: min_df, max_df und ngram_range.\n",
    "\n",
    "**min_df** : Beim Aufbau des Korpus werden Tokens ignoriert, deren Häufigkeit im Text strikt unter dem hier angegebenen Schwellenwert liegt. Der Standardwert ist 1, es werden also alle Tokens entfernt, die nur einmal im Text vorkommen. Wenn wir uns auf häufigere Tokens fokussieren wollen kann es sich lohnen diesen Parameter höher zu setzen.\n",
    "\n",
    "**max_df** : Beim Aufbau des Korpus werden Tokens ignoriert, deren Häufigkeit im Text strikt über dem hier angegebenen Schwellenwert liegt. Der Standardwert ist 1, es werden also alle Tokens entfernt, die mehr als einmal im Text vorkommen. Da min_df und max_df in engem Zusammenhang stehen sollten diese Parameter immer zusammen in sinnvollen Schritten angepasst werden.\n",
    "\n",
    "**ngram_range** : Ein Tupel mit der unteren und oberen Grenze des Bereichs der n-Werte für verschiedene zu extrahierende n-Gramme (n-grams). Ein Unigramm (ngram_range = (1,1)) wäre ein einzelner Token. Es wird also wie zuvor beschrieben die Häufigkeit jedes Tokens ermittelt. Sollen auch Wortkombinationen gezählt werden kann z.B. ngram_range = (1,2) spezifiziert werden. Jetzt werden einzelne Tokens und Token-Gruppen mit 2 Tokens (Bigramme) extrahiert und gezählt. Der Standardwert ist hier (1,1), es werden also nur einzelne Tokens extrahiert, für die Sentiment Analyse kann es sich allerdings auch anbieten Wortgruppen (z.B. not very good) zu betrachten. Wir werden verschiedene ngram_ranges für unsere Analyse ausprobieren.\n",
    "\n",
    "Weiterhin interessant sind die Parameter max_features und stop_words. Durch ersteres kann die Anzahl der Tokens im Vektor durch einen Cut-off-Wert auf häufig vorkommende Begriffe beschränkt werden. Alternativ ist es möglich, noch mehr (domänenspezifische) Stoppwörter zu deklarieren und diese an stop_words zu geben. Beide Optionen reduzieren die Dimension des Vektorraums, so wird weniger Speicher benötigt und Berechnungen verlaufen schneller. Die inhaltlichen Ergebnisse werden hierdurch oft wenig verändert, denn die Abstandsmetrik im Vektorraum sorgt dafür, dass seltene Tokens ohnehin wenig Gewicht haben, und Stoppwörter durch die beschriebene TF/IDF-Transformation unterdrückt werden. \n",
    "\n",
    "Um unsere Klassifikation zu verbessern nutzen wir hier die Parameter max_features und ngram_range.\n",
    "Mit GridSearchCV durchsuchen wir einen Parameterraum systematisch nach der besten Kombination. Hierfür müssen wir den Vectorizer allerdings zunächst mit dem Multinomial Naive Bayes Classifier in einer Pipeline zusammenfassen."
   ]
  },
  {
   "cell_type": "code",
   "execution_count": 26,
   "metadata": {},
   "outputs": [],
   "source": [
    "#Import von Pipeline und GridSearchCV\n",
    "from sklearn.pipeline import Pipeline\n",
    "from sklearn.model_selection import GridSearchCV"
   ]
  },
  {
   "cell_type": "code",
   "execution_count": 27,
   "metadata": {},
   "outputs": [],
   "source": [
    "#Erstellen der Pipelines für beide Methoden\n",
    "bow_pipeline = Pipeline([\n",
    "    ('vect', CountVectorizer()),\n",
    "    ('clf', MultinomialNB())\n",
    "    ])\n",
    "\n",
    "tfidf_pipeline = Pipeline([\n",
    "    ('vect', TfidfVectorizer()),\n",
    "    ('clf', MultinomialNB())\n",
    "    ])"
   ]
  },
  {
   "cell_type": "code",
   "execution_count": 28,
   "metadata": {},
   "outputs": [],
   "source": [
    "#Festlegen der zu testenden Parameter\n",
    "param_search_space = {\n",
    "    'vect__ngram_range': ((1, 1), (1, 2),(2,2),(1,3)),  # unigrams only,unigrams or bigrams,bigrams only,uni-,bi- or trigrams\n",
    "    'vect__max_features': (None, 10000, 25000, 35000)\n",
    "    }"
   ]
  },
  {
   "cell_type": "code",
   "execution_count": 29,
   "metadata": {},
   "outputs": [],
   "source": [
    "#Erstellen des GridSearchCV Objektes für die BOW Pipeline und den Parameterraum\n",
    "bow_grid_search = GridSearchCV(estimator = bow_pipeline, \n",
    "                               param_grid = param_search_space,\n",
    "                               scoring=\"f1_weighted\",\n",
    "                               cv=5, n_jobs = -1)\n",
    "#Modelfitting um die beste Parameterkombination zu bestimmen\n",
    "bow_grid_search.fit(features_microsoft,target_microsoft)\n",
    "bow_best_params = bow_grid_search.best_estimator_.get_params()\n",
    "\n",
    "#Erstellen des GridSearchCV Objektes für die TF-IDF Pipeline und den Parameterraum\n",
    "tfidf_grid_search = GridSearchCV(estimator = tfidf_pipeline, \n",
    "                                 param_grid = param_search_space,\n",
    "                                 scoring= \"f1_weighted\",\n",
    "                                 cv=5, n_jobs = -1)\n",
    "#Modelfitting um die beste Parameterkombination zu bestimmen\n",
    "tfidf_grid_search.fit(features_microsoft,target_microsoft)\n",
    "tfidf_best_params = tfidf_grid_search.best_estimator_.get_params()"
   ]
  },
  {
   "cell_type": "code",
   "execution_count": 30,
   "metadata": {},
   "outputs": [
    {
     "name": "stdout",
     "output_type": "stream",
     "text": [
      "Bester BOW F1 Wert: 0.6485779176318974\n",
      "Beste BOW Hyperparameter Kombination: ('vect', CountVectorizer(max_features=25000, ngram_range=(1, 2))) \n",
      "\n",
      "Bester TF-IDF F1 Wert: 0.5956810659045486\n",
      "Beste TF-IDF Hyperparameter Kombination: ('vect', TfidfVectorizer(max_features=10000, ngram_range=(1, 3)))\n"
     ]
    }
   ],
   "source": [
    "#Ausgabe der Besten F1 Werte sowie der Parameterkombination für die besten Werte\n",
    "print(f\"Bester BOW F1 Wert: {bow_grid_search.best_score_}\")\n",
    "print(f\"Beste BOW Hyperparameter Kombination: {bow_best_params['steps'][0]} \\n\")\n",
    "print(f\"Bester TF-IDF F1 Wert: {tfidf_grid_search.best_score_}\")\n",
    "print(f\"Beste TF-IDF Hyperparameter Kombination: {tfidf_best_params['steps'][0]}\")"
   ]
  },
  {
   "cell_type": "markdown",
   "metadata": {},
   "source": [
    "## Testen der Performance des besten Vectorizers und Classifiers auf einem Testset"
   ]
  },
  {
   "cell_type": "code",
   "execution_count": 31,
   "metadata": {},
   "outputs": [],
   "source": [
    "#Import des F1 scores und des classification_report für die Bewertung ohne Kreuzvalidierung\n",
    "from sklearn.metrics import f1_score,classification_report"
   ]
  },
  {
   "cell_type": "code",
   "execution_count": 32,
   "metadata": {},
   "outputs": [],
   "source": [
    "#Tokenisierung und Bereinigung der Testdaten\n",
    "df_test_microsoft.loc[:,\"body_cleaned\"] = df_test_microsoft.loc[:,\"body\"].apply(text_cleaner)\n",
    "#Erstellen des Feature- und Target-Vektors\n",
    "features_test = df_test_microsoft.loc[:,\"body_cleaned\"]\n",
    "target_test = df_test_microsoft.loc[:,\"sentiment\"]"
   ]
  },
  {
   "cell_type": "code",
   "execution_count": 33,
   "metadata": {},
   "outputs": [
    {
     "name": "stdout",
     "output_type": "stream",
     "text": [
      "Testset F1 (Gewichtet nach Klassen): 0.66345570957778 \n",
      "\n",
      "              precision    recall  f1-score   support\n",
      "\n",
      "          -1       0.64      0.61      0.63       770\n",
      "           0       0.48      0.54      0.50       337\n",
      "           1       0.74      0.73      0.73      1174\n",
      "\n",
      "    accuracy                           0.66      2281\n",
      "   macro avg       0.62      0.63      0.62      2281\n",
      "weighted avg       0.67      0.66      0.66      2281\n",
      "\n"
     ]
    }
   ],
   "source": [
    "#Nutzung der besten BOW Pipeline für die Vorhersage auf den Testdaten\n",
    "bow_pipeline = bow_grid_search.best_estimator_\n",
    "bow_pipeline.fit(features_microsoft,target_microsoft)\n",
    "target_test_pred = bow_pipeline.predict(features_test)\n",
    "\n",
    "bow_f1_test = f1_score(target_test,target_test_pred, average=\"weighted\")\n",
    "\n",
    "print(f\"Testset F1 (Gewichtet nach Klassen): {bow_f1_test} \\n\")\n",
    "print(classification_report(target_test,target_test_pred))"
   ]
  },
  {
   "cell_type": "code",
   "execution_count": 34,
   "metadata": {},
   "outputs": [
    {
     "name": "stdout",
     "output_type": "stream",
     "text": [
      "[ 1  0 -1]\n"
     ]
    }
   ],
   "source": [
    "#Beispielkommentare zur Veranschaulichung der Klassifikation\n",
    "comments = [\"I believe Microsoft Word is the best Text Editor\", \n",
    "            \"Can you explain how Access works?\", \n",
    "            \"The new update is full of bugs\"]\n",
    "comments_clean = [text_cleaner(comment) for comment in comments]\n",
    "print(bow_pipeline.predict(comments_clean))"
   ]
  },
  {
   "cell_type": "markdown",
   "metadata": {},
   "source": [
    "## Visualisierung des Sentiments über die Zeit\n",
    "\n",
    "Eine der Klassifikation nachgestellte Analyse könnte zum Beispiel die Visualisierung des durchschnittlichen Sentiments über einen Zeitraum sein. So könnte der Stimmungsverlauf zu einem Thema und bestimmte einschneidende Ergebnisse (wie zum Beispiel größere Bugs) nachvollzogen werden."
   ]
  },
  {
   "cell_type": "code",
   "execution_count": 35,
   "metadata": {},
   "outputs": [],
   "source": [
    "#Erstellen einer Spalte (\"created_date\") mit dem Datum für jeden Eintrag\n",
    "df_test_microsoft[\"created_date\"] = pd.to_datetime(df_test_microsoft[\"created_utc\"],unit=\"s\").dt.date"
   ]
  },
  {
   "cell_type": "code",
   "execution_count": 36,
   "metadata": {},
   "outputs": [
    {
     "data": {
      "text/plain": [
       "created_date\n",
       "2020-12-31    0.500000\n",
       "2021-01-01    0.304348\n",
       "2021-01-02    0.333333\n",
       "2021-01-03    0.275000\n",
       "2021-01-04    0.363636\n",
       "                ...   \n",
       "2021-04-26    0.357143\n",
       "2021-04-27    0.194444\n",
       "2021-04-28    0.043478\n",
       "2021-04-29    0.303030\n",
       "2021-04-30    0.477273\n",
       "Name: sentiment, Length: 100, dtype: float64"
      ]
     },
     "execution_count": 36,
     "metadata": {},
     "output_type": "execute_result"
    }
   ],
   "source": [
    "#Berechnung des Mittelwerts des Sentiments für jedes Datum innerhalb der Testdaten (01.21-05.21)\n",
    "avg_sentiment_by_date = df_test_microsoft.groupby(\"created_date\")[\"sentiment\"].mean()\n",
    "avg_sentiment_by_date"
   ]
  },
  {
   "cell_type": "code",
   "execution_count": 37,
   "metadata": {},
   "outputs": [
    {
     "data": {
      "image/png": "[encoded data removed]",
      "text/plain": [
       "<Figure size 1080x576 with 1 Axes>"
      ]
     },
     "metadata": {
      "needs_background": "light"
     },
     "output_type": "display_data"
    }
   ],
   "source": [
    "#Visualisierung des durchschnittlichen Sentiments pro Tag über den gesamten Zeitraum\n",
    "fig,ax = plt.subplots(figsize=(15,8))\n",
    "#Liniendiagramm für das durchschnittliche Sentiment\n",
    "sns.lineplot(data=avg_sentiment_by_date,ax=ax)\n",
    "#Kennzeichnung der 5 negativsten und 5 positivsten Tage im Zeitraum\n",
    "sns.scatterplot(data=avg_sentiment_by_date.nlargest(n=5),ax=ax, color = \"green\",alpha=0.8,s=75, label = \"Sehr positiv\")\n",
    "sns.scatterplot(data=avg_sentiment_by_date.nsmallest(n=5),ax=ax, color = \"orange\",alpha=0.8,s=75, label = \"Sehr negativ\")\n",
    "#Formatierung und Beschriftung der Grafik\n",
    "ax.set(title=\"Sentiment Entwicklung in r/technology zum Stichwort 'Microsoft'\",\n",
    "        xlabel=\"Datum\",ylabel=\"Durchschnittliches Sentiment\")\n",
    "plt.legend(loc=4)\n",
    "sns.despine()\n",
    "plt.tight_layout()\n",
    "plt.savefig(\"Sentiment_Entwicklung.png\")"
   ]
  },
  {
   "cell_type": "markdown",
   "metadata": {},
   "source": [
    "## Fazit\n",
    "\n",
    "Unser eigenes Modell macht einen passablen Job. Die gewichteten Metriken sind für solch ein einfaches Modell zufriedenstellend, nur mit der Neutralen Klasse hat das Modell noch seine Probleme.\n",
    "\n",
    "Wahrscheinlich wären wir mit einem Modell wie VADER oder spaCy etwas erfolgreicher. Dennoch zeigt unser Versuch, dass wir relativ einfache Prinzipien nutzen können um Erkenntnissen zu finden."
   ]
  }
 ],
 "metadata": {
  "kernelspec": {
   "display_name": "Python 3",
   "language": "python",
   "name": "python3"
  },
  "language_info": {
   "codemirror_mode": {
    "name": "ipython",
    "version": 3
   },
   "file_extension": ".py",
   "mimetype": "text/x-python",
   "name": "python",
   "nbconvert_exporter": "python",
   "pygments_lexer": "ipython3",
   "version": "3.7.6"
  },
  "toc": {
   "base_numbering": 1,
   "nav_menu": {},
   "number_sections": true,
   "sideBar": true,
   "skip_h1_title": false,
   "title_cell": "Table of Contents",
   "title_sidebar": "Contents",
   "toc_cell": false,
   "toc_position": {},
   "toc_section_display": true,
   "toc_window_display": false
  },
  "varInspector": {
   "cols": {
    "lenName": 16,
    "lenType": 16,
    "lenVar": 40
   },
   "kernels_config": {
    "python": {
     "delete_cmd_postfix": "",
     "delete_cmd_prefix": "del ",
     "library": "var_list.py",
     "varRefreshCmd": "print(var_dic_list())"
    },
    "r": {
     "delete_cmd_postfix": ") ",
     "delete_cmd_prefix": "rm(",
     "library": "var_list.r",
     "varRefreshCmd": "cat(var_dic_list()) "
    }
   },
   "types_to_exclude": [
    "module",
    "function",
    "builtin_function_or_method",
    "instance",
    "_Feature"
   ],
   "window_display": false
  }
 },
 "nbformat": 4,
 "nbformat_minor": 4
}
